{
 "cells": [
  {
   "cell_type": "code",
   "execution_count": null,
   "id": "8a0d586f",
   "metadata": {},
   "outputs": [],
   "source": [
    "from datetime import datetime, timedelta\n",
    "from airflow import DAG\n",
    "from airflow.operators.python import PythonOperator\n",
    "import pandas as pd\n",
    "\n",
    "def read_the_file(**kwargs):\n",
    "    filepath = \"/opt/airflow/sales/sales.csv\"\n",
    "    df = pd.read_csv(filepath)\n",
    "    print(df)\n",
    "    kwargs['ti'].xcom_push(key='read_the_file', value=df)\n",
    "\n",
    "def write_csv_file(**kwargs):\n",
    "    output_file_location = \"/opt/airflow/Newfolder/output_file.json\"\n",
    "    print(output_file_location)\n",
    "    \n",
    "    df=kwargs['ti'].xcom_pull(task_ids='read_the_file', key='read_the_file')\n",
    "\n",
    "    if df is not None:\n",
    "        print('The given link is valid and can be executed')\n",
    "        df.to_csv(output_file_location, index=True)\n",
    "    else:\n",
    "        print('Error in the given file')    \n",
    "\n",
    "default_args ={\n",
    "    'owner':'ravi',\n",
    "    'description':'this dag will read the file',\n",
    "    'retries':2,\n",
    "    'retry_delay':timedelta(minutes=2),\n",
    "}\n",
    "\n",
    "with DAG(\n",
    "    dag_id='reading_sales_file_dagg_01',\n",
    "    default_args=default_args,\n",
    "    schedule_interval='@once',\n",
    "    start_date=datetime.now(),\n",
    "    catchup=False\n",
    ") as dag:\n",
    "\n",
    "\n",
    "    read_file = PythonOperator(\n",
    "        task_id='read_the_file',\n",
    "        python_callable=read_the_file,\n",
    "        dag=dag,   \n",
    "    )\n",
    "\n",
    "    write_file = PythonOperator(\n",
    "        task_id='writing_the_file_to_json',\n",
    "        python_callable=write_csv_file,\n",
    "        provide_context=True,\n",
    "        dag=dag,\n",
    "    )\n",
    "\n",
    "    read_file >> write_file"
   ]
  }
 ],
 "metadata": {
  "kernelspec": {
   "display_name": "Python 3 (ipykernel)",
   "language": "python",
   "name": "python3"
  },
  "language_info": {
   "codemirror_mode": {
    "name": "ipython",
    "version": 3
   },
   "file_extension": ".py",
   "mimetype": "text/x-python",
   "name": "python",
   "nbconvert_exporter": "python",
   "pygments_lexer": "ipython3",
   "version": "3.11.5"
  }
 },
 "nbformat": 4,
 "nbformat_minor": 5
}
