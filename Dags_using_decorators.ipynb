{
 "cells": [
  {
   "cell_type": "code",
   "execution_count": null,
   "id": "43e61163",
   "metadata": {},
   "outputs": [],
   "source": [
    "from airflow.decorators import dag, task\n",
    "from datetime import datetime, timedelta\n",
    "from airflow import DAG\n",
    "\n",
    "default_args = {\n",
    "        'owner':'Ravi',\n",
    "        'retries':2,\n",
    "        'retry_delay':timedelta(minutes=2),   \n",
    "}\n",
    "\n",
    "@dag(\n",
    "    dag_id='creating_tasks_using_decorators_etl',\n",
    "    default_args=default_args,\n",
    "    schedule_interval=None,\n",
    "    start_date=datetime.now(),\n",
    ")\n",
    "\n",
    "def hello_world_etl():\n",
    "\n",
    "    @task()\n",
    "    def get_name():\n",
    "            return 'Kunal'\n",
    "\n",
    "    @task()\n",
    "    def get_age():\n",
    "            return 19\n",
    "\n",
    "    @task()\n",
    "    def greet(name, age):\n",
    "       return(f'hello my name is {name}, and i am {age} years old')\n",
    "\n",
    "    name = get_name()\n",
    "    age = get_age()\n",
    "    greet(name=name, age=age)\n",
    "\n",
    "\n",
    "greet_dag=hello_world_etl()"
   ]
  }
 ],
 "metadata": {
  "kernelspec": {
   "display_name": "Python 3 (ipykernel)",
   "language": "python",
   "name": "python3"
  },
  "language_info": {
   "codemirror_mode": {
    "name": "ipython",
    "version": 3
   },
   "file_extension": ".py",
   "mimetype": "text/x-python",
   "name": "python",
   "nbconvert_exporter": "python",
   "pygments_lexer": "ipython3",
   "version": "3.11.5"
  }
 },
 "nbformat": 4,
 "nbformat_minor": 5
}
