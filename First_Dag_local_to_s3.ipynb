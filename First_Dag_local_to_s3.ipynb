{
 "cells": [
  {
   "cell_type": "code",
   "execution_count": null,
   "id": "5d00b007",
   "metadata": {},
   "outputs": [],
   "source": [
    "from datetime import datetime\n",
    "from airflow import DAG\n",
    "from airflow.operators.python import PythonOperator\n",
    "from airflow.hooks.S3_hook import S3Hook\n",
    "\n",
    "def upload_to_s3(filename: str, key: str, bucket_name: str) -> None:\n",
    "    hook = S3Hook(aws_conn_id='s3_conn')\n",
    "    hook.load_file(filename=filename, key=key, bucket_name=bucket_name)\n",
    "\n",
    "default_args = {\n",
    "    'owner': 'airflow',\n",
    "    'start_date': datetime(2023, 11, 27),\n",
    "    'depends_on_past': False,\n",
    "    'retries': 1,\n",
    "}\n",
    "\n",
    "with DAG(\n",
    "    dag_id='s3_dag',\n",
    "    schedule_interval='@once',\n",
    "    default_args=default_args,\n",
    "    catchup=False,\n",
    ") as dag:\n",
    "    task_upload_to_s3 = PythonOperator(\n",
    "        task_id='upload_to_s3',\n",
    "        python_callable=upload_to_s3,\n",
    "        op_kwargs={\n",
    "            'filename': '/opt/airflow/student/student.csv',\n",
    "            'key': 'student.csv',\n",
    "            'bucket_name': 'tempcase',\n",
    "        }\n",
    "    )\n"
   ]
  }
 ],
 "metadata": {
  "kernelspec": {
   "display_name": "Python 3 (ipykernel)",
   "language": "python",
   "name": "python3"
  },
  "language_info": {
   "codemirror_mode": {
    "name": "ipython",
    "version": 3
   },
   "file_extension": ".py",
   "mimetype": "text/x-python",
   "name": "python",
   "nbconvert_exporter": "python",
   "pygments_lexer": "ipython3",
   "version": "3.11.5"
  }
 },
 "nbformat": 4,
 "nbformat_minor": 5
}
